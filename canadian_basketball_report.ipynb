{
 "cells": [
  {
   "cell_type": "code",
   "execution_count": null,
   "metadata": {},
   "outputs": [],
   "source": [
    "import pandas as pd\n",
    "pd.set_option(\"display.latex.repr\", True)"
   ]
  },
  {
   "cell_type": "markdown",
   "metadata": {
    "toc-hr-collapsed": false
   },
   "source": [
    "# Summary"
   ]
  },
  {
   "cell_type": "markdown",
   "metadata": {},
   "source": [
    "This project develops a machine learning system to forecast playing time for Canadian University basketball players. Using historical game data from the 2022-2024 seasons, I constructed predictive models that achieved a mean squared error of 37.86 and R² of 0.644 on test data. These results significantly outperform a simple 5-game rolling average baseline (MSE: 69.44, R²: 0.337), demonstrating the value of sophisticated feature engineering and machine learning approaches in sports analytics. The models provide actionable insights for coaching decisions and player development strategies."
   ]
  },
  {
   "cell_type": "markdown",
   "metadata": {},
   "source": [
    "# Introduction"
   ]
  },
  {
   "cell_type": "markdown",
   "metadata": {},
   "source": [
    "Basketball analytics has evolved from simple box score analysis to sophisticated predictive modeling. At the university level, understanding playing time patterns offers unique insights into team dynamics, player development, and strategic decision-making. Canadian University basketball presents an interesting case study due to its distinct competitive environment, academic constraints, and developmental focus.\n",
    "\n",
    "This analysis focuses on predicting individual player minutes in upcoming games using machine learning techniques. Playing time serves as a fundamental metric that influences team strategy, player development trajectories, and overall team performance. Accurate predictions can support coaching decisions, help players understand their roles, and provide insights into team dynamics.\n",
    "\n",
    "The methodology builds upon established sports analytics principles, adapting techniques from professional basketball analysis to the university context. This work demonstrates how machine learning approaches can be successfully applied to different basketball environments, providing a framework for similar analyses in other collegiate sports."
   ]
  },
  {
   "cell_type": "markdown",
   "metadata": {},
   "source": [
    "\\pagebreak"
   ]
  },
  {
   "cell_type": "markdown",
   "metadata": {},
   "source": [
    "# Methods"
   ]
  },
  {
   "cell_type": "markdown",
   "metadata": {},
   "source": [
    "## Data"
   ]
  },
  {
   "cell_type": "markdown",
   "metadata": {},
   "source": [
    "The dataset comprises Canadian University basketball game statistics spanning the 2022-2024 seasons. Each observation represents a player's performance in a specific game, including traditional box score metrics (points, rebounds, assists) alongside advanced statistics (shooting percentages, efficiency metrics). The dataset contains 39,586 game records from over 1,250 unique players, providing sufficient variation for robust model development while maintaining the specific characteristics of university-level competition."
   ]
  },
  {
   "cell_type": "markdown",
   "metadata": {},
   "source": [
    "## Analysis\n"
   ]
  },
  {
   "cell_type": "markdown",
   "metadata": {},
   "source": [
    "The analysis employs three distinct machine learning approaches: linear regression for interpretability, random forest for capturing non-linear relationships, and LightGBM for gradient boosting performance. Implementation utilized Python with key libraries including `pandas` for data manipulation, `scikit-learn` for traditional machine learning algorithms, `lightgbm` for gradient boosting, and `matplotlib`/`seaborn` for visualization. The complete analysis pipeline and supporting code are available in the project repository."
   ]
  },
  {
   "cell_type": "markdown",
   "metadata": {},
   "source": [
    "# Results & Discussion"
   ]
  },
  {
   "cell_type": "markdown",
   "metadata": {},
   "source": [
    "Feature engineering played a crucial role in model development. The analysis created several feature categories: historical playing time patterns, player efficiency metrics, and composite performance indicators. Historical features included rolling averages across different time windows (3, 5, and 10 games) and exponential moving averages with varying decay rates. Efficiency metrics encompassed usage rate, true shooting percentage, and effective field goal percentage. Additional features included per-minute statistics and composite player ratings.\n",
    "\n",
    "Feature selection involved examining correlations with the target variable and domain knowledge of basketball dynamics. The correlation analysis, shown in Figure 1, reveals that recent playing time patterns (\"Mins_last3_mean\", \"Mins_last5_mean\", \"Mins_last10_mean\") exhibit the strongest relationships with future minutes. Player rating metrics (\"PlayerRating_ewm_0.1\", \"PlayerRating_ewm_0.2\") show moderate correlations, while volatility measures (\"Mins_ewm_std\") display negative correlations, indicating that consistent playing time patterns predict future minutes more reliably.\n",
    "\n",
    "![Feature Correlations](results/EDA-feat_corr_canadian.png).\n",
    "\n",
    "> _Figure 1. Feature Correlations with Target_\n",
    "\n",
    "Model evaluation compared machine learning approaches against a 5-game rolling average baseline. This baseline represents a reasonable expectation for recent performance trends and provides a practical benchmark for assessing model improvement. Performance metrics included mean squared error and coefficient of determination (R²) to capture both absolute and relative prediction accuracy.\n",
    "\n"
   ]
  },
  {
   "cell_type": "code",
   "execution_count": null,
   "metadata": {},
   "outputs": [],
   "source": [
    "{\n",
    "    \"tags\": [\n",
    "        \"hide_input\",\n",
    "    ]\n",
    "}\n",
    "print('\\n', pd.read_csv('results/modelling-score_table_canadian.csv', index_col=0), '\\n')"
   ]
  },
  {
   "cell_type": "markdown",
   "metadata": {},
   "source": [
    "> _Figure 2. Comparison of Model Fitness_ <br>"
   ]
  },
  {
   "cell_type": "markdown",
   "metadata": {},
   "source": [
    "The results demonstrate that all machine learning models significantly outperform the baseline approach. The Random Forest model achieved the highest performance (R² = 0.644), followed closely by LightGBM (R² = 0.642) and Linear Regression (R² = 0.640). These improvements represent substantial enhancements over the baseline model's performance (R² = 0.337).\n",
    "\n",
    "Residual analysis, presented in Figure 3, provides insights into model behavior across the range of playing time values. All models show reasonable performance across typical playing time ranges, with some degradation at the extremes. This pattern reflects the inherent challenges in predicting unusual circumstances such as injuries, foul trouble, or overtime situations.\n",
    "\n",
    "![Residuals Plot](results/residual_plots_canadian.png).\n",
    "\n",
    "> _Figure 3. Model Residual Error_\n",
    "\n",
    "Feature importance analysis for the Random Forest model, shown in Figure 4, reveals that recent playing time patterns dominate the prediction process. Rolling averages of minutes played (\"Mins_last3_mean\", \"Mins_last5_mean\") emerge as the most influential features, followed by player rating metrics and efficiency statistics. This hierarchy aligns with basketball intuition, where recent playing time serves as the strongest indicator of future opportunities.\n",
    "\n",
    "![Feature Importance](results/modelling-gbm_importance_canadian.png).\n",
    "\n",
    "> _Figure 4. Random Forest Feature Importance_\n",
    "\n",
    "The analysis demonstrates that sophisticated machine learning approaches provide meaningful improvements over simple statistical methods for predicting playing time. The Random Forest model's superior performance suggests that capturing non-linear relationships and interaction effects enhances prediction accuracy. These improvements translate to practical value for coaching decisions and player development strategies.\n",
    "\n",
    "Future enhancements could address several limitations. Incorporating contextual information such as opponent strength, team injury status, and academic factors could improve prediction accuracy. Advanced modeling techniques including ensemble methods and hyperparameter optimization might yield additional improvements. Expanding the temporal scope and including team-specific factors could provide more nuanced insights into playing time patterns.\n",
    "\n",
    "## Critical Assessment and Limitations\n",
    "\n",
    "While the models demonstrate significant improvement over baseline methods, the moderate R² score (0.644) indicates substantial room for enhancement. This analysis reveals both the potential and limitations of current sports prediction methodologies.\n",
    "\n",
    "**Key Limitations Identified:**\n",
    "- Missing contextual data (injuries, opponent strength, team strategy)\n",
    "- No academic factors (grades, eligibility, academic standing)\n",
    "- Limited temporal scope (only 2022-2024 data)\n",
    "- No team-specific factors (coach preferences, team culture, roster depth)\n",
    "\n",
    "**Areas for Improvement:**\n",
    "- Collect additional contextual features\n",
    "- Implement ensemble methods\n",
    "- Add hyperparameter optimization\n",
    "- Include domain-specific evaluation metrics\n",
    "\n",
    "This work establishes a solid foundation for sports analytics but highlights the complexity of predicting human decisions in sports. The methodology provides value for understanding playing time patterns and could serve as a starting point for more sophisticated sports prediction systems."
   ]
  },
  {
   "cell_type": "markdown",
   "metadata": {},
   "source": [
    "\\pagebreak"
   ]
  },
  {
   "cell_type": "code",
   "execution_count": null,
   "metadata": {},
   "outputs": [],
   "source": []
  }
 ],
 "metadata": {
  "kernelspec": {
   "display_name": "Python 3",
   "language": "python",
   "name": "python3"
  },
  "language_info": {
   "codemirror_mode": {
    "name": "ipython",
    "version": 3
   },
   "file_extension": ".py",
   "mimetype": "text/x-python",
   "name": "python",
   "nbconvert_exporter": "python",
   "pygments_lexer": "ipython3",
   "version": "3.7.5"
  },
  "toc-autonumbering": true,
  "toc-showcode": false,
  "toc-showmarkdowntxt": true,
  "toc-showtags": true
 },
 "nbformat": 4,
 "nbformat_minor": 4
}
