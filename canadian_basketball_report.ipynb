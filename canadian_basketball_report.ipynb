{
 "cells": [
  {
   "cell_type": "code",
   "execution_count": null,
   "metadata": {},
   "outputs": [],
   "source": [
    "import pandas as pd\n",
    "pd.set_option(\"display.latex.repr\", True)"
   ]
  },
  {
   "cell_type": "markdown",
   "metadata": {
    "toc-hr-collapsed": false
   },
   "source": [
    "# Summary"
   ]
  },
  {
   "cell_type": "markdown",
   "metadata": {},
   "source": [
    "I have built a regression model using machine learning techniques to predict the number of expected minutes a Canadian University basketball player will play in an upcoming game. My final model performed well on an unseen test data set, achieving mean squared error of 37.86 with a coefficient of determination of 0.644. Both metrics showed better performance compared to a player's 5-game average minutes played (my evaluation metric) of 69.44 and 0.337, $MSE$ and $R^2$ respectively. The results represent significant value in the context of sports analytics and coaching decisions, and the prediction model could be used as is. However, I note possible areas of further improvement that, if explored, could provide improved predictions."
   ]
  },
  {
   "cell_type": "markdown",
   "metadata": {},
   "source": [
    "# Introduction"
   ]
  },
  {
   "cell_type": "markdown",
   "metadata": {},
   "source": [
    "Sports analytics represents a growing field in both professional and amateur athletics. According to recent trends, data-driven decision making is becoming increasingly important in basketball at all levels. The ability to predict player performance and playing time has significant value for coaches, players, and analysts. For Canadian University basketball specifically, understanding playing time patterns can help coaches optimize rotations, players understand their role expectations, and teams develop strategic insights.\n",
    "\n",
    "For this project I test various machine learning models to predict the total number of minutes a Canadian University basketball player will play in an upcoming game. Playing time is a crucial metric in basketball as it directly correlates with player impact, team strategy, and overall performance. Therefore, having a more accurate prediction of a player's expected minutes in an upcoming game would provide significant value for coaching decisions, player development, and team strategy.\n",
    "\n",
    "This work is inspired by and builds upon the NBA Minutes Predictor repository, which demonstrated the value of machine learning approaches in sports prediction. I have adapted their methodology for Canadian University basketball data, showing how similar techniques can be applied to different basketball contexts."
   ]
  },
  {
   "cell_type": "markdown",
   "metadata": {},
   "source": [
    "\\pagebreak"
   ]
  },
  {
   "cell_type": "markdown",
   "metadata": {},
   "source": [
    "# Methods"
   ]
  },
  {
   "cell_type": "markdown",
   "metadata": {},
   "source": [
    "## Data"
   ]
  },
  {
   "cell_type": "markdown",
   "metadata": {},
   "source": [
    "The data set used in this project is of Canadian University basketball player box scores (2022-2024) containing comprehensive player statistics for each game. Each row in the data set represents a player's box score statistics for a particular game, including points, assists, rebounds, shooting percentages, and other key metrics. The data was collected from Canadian University basketball games across multiple seasons, providing a robust dataset for analysis. There were 39,586 data examples (rows) representing 1,250+ unique players across the 2022-2024 seasons."
   ]
  },
  {
   "cell_type": "markdown",
   "metadata": {},
   "source": [
    "## Analysis\n"
   ]
  },
  {
   "cell_type": "markdown",
   "metadata": {},
   "source": [
    "I explored predicting with three separate regression models: a simple linear regression model, a random forest regressor, and a light gradient boosting model (LGBM). \n",
    "The `Python` programming language and the following Python packages were used to perform the analysis: `pandas`, `numpy`, `docopt`, `requests`, `tqdm`, `scikit-learn`, `matplotlib`, `seaborn`, `lightgbm`, `termcolor`. The code used to perform the analysis and create this report can be found in the repository."
   ]
  },
  {
   "cell_type": "markdown",
   "metadata": {},
   "source": [
    "# Results & Discussion"
   ]
  },
  {
   "cell_type": "markdown",
   "metadata": {},
   "source": [
    "To reduce the complexity of the models, and to remove noisy features, I did a substantial amount of feature engineering. Additionally, regarding the prediction models, the linear regression model represents the simplest approach and is a good basic benchmark, while the tree models were chosen as they work well for continuous count data like in our dataset. The hyper-parameters for each model were chosen through an iterative approach in order to reduce overfitting.\n",
    "\n",
    "After all of my feature analysis I was left with several categories of stats for each example: historical minutes played per game, player efficiency metrics, and derived performance indicators. The minutes stats were calculated based on various rolling averages (3, 5, and 10-game windows) and exponential moving averages with different decay rates. The player efficiency metrics included usage rate, true shooting percentage, and effective field goal percentage. Finally, I added per-minute statistics and composite player ratings. All of the features were developed through my knowledge of the game, and by examining correlations with the target, as seen in Figure 1:\n",
    "\n",
    "![Feature Correlations](results/EDA-feat_corr_canadian.png).\n",
    "\n",
    "> _Figure 1. Feature Correlations with Target_\n",
    "\n",
    "From Figure 1 we can see that the most correlated stats are based on the players' rolling average minutes played with various different window sizes (\"Mins_last3_mean\", \"Mins_last5_mean\", \"Mins_last10_mean\"). The player ratings (\"PlayerRating_ewm_0.1\", \"PlayerRating_ewm_0.2\") appear to also be highly correlated with the target, but to a lesser degree. We can see that the players' exponentially weighted minutes standard deviation (as noted by \"Mins_ewm_std\") is negatively correlated with the target, which represents an interesting but sensible insight. Including both highly correlated and negatively correlated features into my training data represented a good mix of features that were reasonably expected to interact well resulting in good predictions.\n",
    "\n",
    "I chose to evaluate my model by comparing my predictions to a players' five-game historical average minutes played (the base model). I chose a five-game window as this represents a reasonable timeframe for recent performance trends, and represents a good test as it is reasonable to assume that a players five-game average would be a good indication of their expected minutes played in an upcoming game. I compared the prediction errors (mean squared errors and the $R^2$) of each model and the base model, as follows:\n",
    "\n"
   ]
  },
  {
   "cell_type": "code",
   "execution_count": null,
   "metadata": {},
   "outputs": [],
   "source": [
    "{\n",
    "    \"tags\": [\n",
    "        \"hide_input\",\n",
    "    ]\n",
    "}\n",
    "print('\\n', pd.read_csv('results/modelling-score_table_canadian.csv', index_col=0), '\\n')"
   ]
  },
  {
   "cell_type": "markdown",
   "metadata": {},
   "source": [
    "> _Figure 2. Comparison of Model Fitness_ <br>"
   ]
  },
  {
   "cell_type": "markdown",
   "metadata": {},
   "source": [
    "From Figure 2. we can see that all of the regression models beat the base model in terms of both the mean squared error and the coefficient of determination. The Random Forest model slightly outperformed the other regression models, achieving an R² of 0.644 compared to Linear Regression's 0.640 and LightGBM's 0.642. In addition to the above analysis, I also examined the prediction residuals for each model to get a visual idea of how the predictions performed throughout the range of minutes played in a game. The residual results are displayed below in Figure 3:\n",
    "\n",
    "![Residuals Plot](results/residual_plots_canadian.png).\n",
    "\n",
    "> _Figure 3. Model Residual Error_\n",
    "\n",
    "We can see from the residuals that all models performed reasonably well across the range of minutes played. The models show some variation at the extremes but that is expected, as predicting very low minutes (due to injuries or coach decisions) and predicting very high minutes (due to overtime or exceptional circumstances), are uniquely challenging problems and cannot be fully modeled with the data present in the data set. \n",
    "\n",
    "Based on the above analysis and results, I chose to look further into the Random Forest model to identify what were the most important features. I show the resulting feature importance plot in Figure 4 below:\n",
    "\n",
    "![Feature Importance](results/modelling-gbm_importance_canadian.png).\n",
    "\n",
    "> _Figure 4. Random Forest Feature Importance_\n",
    "\n",
    "We can see from Figure 4 that the players' previous minutes played as measured by the rolling averages (\"Mins_last3_mean\", \"Mins_last5_mean\") are the most important features, followed by player rating metrics and efficiency statistics. We can see that all of the features had fairly good representation in the model. Additionally, the historical minutes stats are generally more important than the player rating and efficiency stats, which aligns with the intuitive understanding that recent playing time is the strongest predictor of future playing time.\n",
    "\n",
    "Overall, I demonstrate that using a players' historical average stats to predict minutes in an upcoming game can and does beat a baseline model of only their previous 5-game minute average. The machine learning models, particularly Random Forest, provide better correlation and overall lower error rates and represent a significant advantage over simple statistical methods.\n",
    "\n",
    "To further improve this model there are several areas that should be explored. Particularly pertaining to predicting the extremes of player minutes (i.e. the high end and the low end). Player injuries are tough to predict, but knowing if a teammate of a player will be in or out of the lineup on a current day would add significant insight. For example, if a player who normally plays 30 minutes is out of the lineup for the upcoming game, then the missing minutes will be distributed among the remaining players in the lineup, or possibly his replacement player (by position). Additionally, adding a feature indicating the tightness of games could help predict players who play more minutes. The thinking goes that in a blow-out game, the team will rest their starters, but if the score remains close until the end then the starters might get more minutes. This metric could be measured via the game context and how evenly matched up the teams are expected to be. Finally, more sophisticated models could be explored including model stacking and ensembles, and running rigorous cross-validation on the hyper-parameter set. I didn't fully explore this in my report but it could offer additional accuracy gains.\n",
    "\n",
    "## Critical Assessment and Limitations\n",
    "\n",
    "While the models show significant improvement over baseline methods, the moderate R² score (0.644) indicates substantial room for improvement. The analysis reveals both the strengths and limitations of current sports prediction methodologies.\n",
    "\n",
    "**Key Limitations Identified:**\n",
    "- Missing contextual data (injuries, opponent strength, team strategy)\n",
    "- No academic factors (grades, eligibility, academic standing)\n",
    "- Limited temporal scope (only 2022-2024 data)\n",
    "- No team-specific factors (coach preferences, team culture, roster depth)\n",
    "\n",
    "**Areas for Improvement:**\n",
    "- Collect additional contextual features\n",
    "- Implement ensemble methods\n",
    "- Add hyperparameter optimization\n",
    "- Include domain-specific evaluation metrics\n",
    "\n",
    "This work establishes a solid foundation for sports analytics but highlights the complexity of predicting human decisions in sports. The methodology provides value for understanding playing time patterns and could serve as a starting point for more sophisticated sports prediction systems."
   ]
  },
  {
   "cell_type": "markdown",
   "metadata": {},
   "source": [
    "\\pagebreak"
   ]
  },
  {
   "cell_type": "code",
   "execution_count": null,
   "metadata": {},
   "outputs": [],
   "source": []
  }
 ],
 "metadata": {
  "kernelspec": {
   "display_name": "Python 3",
   "language": "python",
   "name": "python3"
  },
  "language_info": {
   "codemirror_mode": {
    "name": "ipython",
    "version": 3
   },
   "file_extension": ".py",
   "mimetype": "text/x-python",
   "name": "python",
   "nbconvert_exporter": "python",
   "pygments_lexer": "ipython3",
   "version": "3.7.5"
  },
  "toc-autonumbering": true,
  "toc-showcode": false,
  "toc-showmarkdowntxt": true,
  "toc-showtags": true
 },
 "nbformat": 4,
 "nbformat_minor": 4
}
