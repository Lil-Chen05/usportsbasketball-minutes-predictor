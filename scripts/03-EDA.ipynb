{
 "cells": [
  {
   "cell_type": "markdown",
   "metadata": {},
   "source": [
    "# EDA"
   ]
  },
  {
   "cell_type": "code",
   "execution_count": 1,
   "metadata": {},
   "outputs": [],
   "source": [
    "import pandas as pd\n",
    "import numpy as np\n",
    "from sklearn.model_selection import train_test_split\n",
    "import altair as alt\n",
    "import matplotlib.pylab as pl"
   ]
  },
  {
   "cell_type": "code",
   "execution_count": 2,
   "metadata": {},
   "outputs": [],
   "source": [
    "data_dir = '../data/player_data_ready.csv'\n",
    "out_dir = '../results'"
   ]
  },
  {
   "cell_type": "code",
   "execution_count": 3,
   "metadata": {},
   "outputs": [],
   "source": [
    "# load data file here\n",
    "df = pd.read_csv(data_dir)"
   ]
  },
  {
   "cell_type": "code",
   "execution_count": 4,
   "metadata": {},
   "outputs": [],
   "source": [
    "# make primary key column\n",
    "df['pk'] = df[\"playDispNm\"] + '_' + df[\"gmDate\"]"
   ]
  },
  {
   "cell_type": "markdown",
   "metadata": {},
   "source": [
    "#### Remove Unnecessary Columns"
   ]
  },
  {
   "cell_type": "code",
   "execution_count": 5,
   "metadata": {},
   "outputs": [],
   "source": [
    "info_cols = ['pk', 'playDispNm', 'gmDate', 'teamAbbr']\n",
    "df = df.drop(columns=info_cols)"
   ]
  },
  {
   "cell_type": "markdown",
   "metadata": {},
   "source": [
    "#### Train/test split"
   ]
  },
  {
   "cell_type": "code",
   "execution_count": 6,
   "metadata": {},
   "outputs": [],
   "source": [
    "df_train, df_test = train_test_split(df, test_size=0.2)"
   ]
  },
  {
   "cell_type": "code",
   "execution_count": 7,
   "metadata": {},
   "outputs": [
    {
     "data": {
      "image/png": "[encoded data removed]",
      "text/plain": [
       "<Figure size 432x288 with 1 Axes>"
      ]
     },
     "metadata": {
      "needs_background": "light"
     },
     "output_type": "display_data"
    }
   ],
   "source": [
    "# not using altair because there are too many rows and altair breaks when saving the png file\n",
    "ax = df_train['playMin'].hist(bins=60, grid=False)\n",
    "pl.suptitle(\"Histogram of the target - playMin\")\n",
    "fig = ax.get_figure()\n",
    "fig.savefig(out_dir+'/EDA-hist_y.png')"
   ]
  },
  {
   "cell_type": "code",
   "execution_count": 8,
   "metadata": {},
   "outputs": [],
   "source": [
    "correlations = {}\n",
    "for col in df_train:\n",
    "    if col == 'playMin':\n",
    "        continue\n",
    "    try:\n",
    "        correlations[col] = round(np.corrcoef(df_train[col], df_train['playMin'])[0][1], 3)\n",
    "    except:\n",
    "        continue\n",
    "        \n",
    "correl_df = pd.DataFrame.from_dict(correlations, orient='index')\n",
    "correl_df.columns = ['corr w/ target']\n",
    "correl_df = correl_df.sort_values('corr w/ target', ascending=False)\n"
   ]
  },
  {
   "cell_type": "code",
   "execution_count": 9,
   "metadata": {},
   "outputs": [],
   "source": [
    "correl_df_pos_20 = correl_df.iloc[:20, :].copy()\n",
    "correl_df_neg_9 = correl_df.iloc[-9:, :].sort_values('corr w/ target').copy()"
   ]
  },
  {
   "cell_type": "code",
   "execution_count": 10,
   "metadata": {},
   "outputs": [],
   "source": [
    "correl_df_pos_20.to_csv(out_dir+'/EDA-correl_df_pos_20.csv')\n",
    "correl_df_neg_9.to_csv(out_dir+'/EDA-correl_df_neg_9.csv')"
   ]
  },
  {
   "cell_type": "code",
   "execution_count": 11,
   "metadata": {},
   "outputs": [],
   "source": [
    "# visualize the correlations\n",
    "sort = list(correl_df.reset_index()['index'])\n",
    "corr_line = alt.Chart(correl_df.reset_index()).mark_line().encode(\n",
    "    x=alt.X('index', sort=sort, \n",
    "           axis=alt.Axis(title='Features')),\n",
    "    y=alt.Y('corr w/ target:Q', \n",
    "           axis=alt.Axis(title='Correlation with the target'))\n",
    ").properties(\n",
    "    width=600,\n",
    "    height=200\n",
    ").configure_axisX(labelAngle = -40).properties(title=\"Features' correlation with the target\")"
   ]
  },
  {
   "cell_type": "code",
   "execution_count": 12,
   "metadata": {},
   "outputs": [],
   "source": [
    "corr_line.save(out_dir+'/EDA-feat_corr_line.png', scale_factor=2.0)"
   ]
  }
 ],
 "metadata": {
  "kernelspec": {
   "display_name": "Python 3",
   "language": "python",
   "name": "python3"
  },
  "language_info": {
   "codemirror_mode": {
    "name": "ipython",
    "version": 3
   },
   "file_extension": ".py",
   "mimetype": "text/x-python",
   "name": "python",
   "nbconvert_exporter": "python",
   "pygments_lexer": "ipython3",
   "version": "3.7.5"
  }
 },
 "nbformat": 4,
 "nbformat_minor": 4
}
