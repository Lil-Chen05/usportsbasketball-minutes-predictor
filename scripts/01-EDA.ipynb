{
 "cells": [
  {
   "cell_type": "code",
   "execution_count": 1,
   "metadata": {},
   "outputs": [],
   "source": [
    "import pandas as pd\n",
    "import numpy as np\n",
    "import time\n",
    "pd.set_option('mode.chained_assignment', None) # turn off warning message of SettingWithCopyWarning "
   ]
  },
  {
   "cell_type": "code",
   "execution_count": 14,
   "metadata": {},
   "outputs": [],
   "source": [
    "df = pd.read_csv('../data/2012-18_playerBoxScore.csv') # reading csv in this way for now."
   ]
  },
  {
   "cell_type": "markdown",
   "metadata": {},
   "source": [
    "# Data Wrangling / Feature Engineering  \n",
    "> <font color='blue'>Please refer to **'../doc/metadata_playerBoxScore.pdf'** for description on the meaning of features.  \n",
    "> The wrangling part will take about 8 minutes to run, and the result dataframe will be about 140MB."
   ]
  },
  {
   "cell_type": "code",
   "execution_count": 3,
   "metadata": {},
   "outputs": [
    {
     "data": {
      "text/plain": [
       "(155713, 51)"
      ]
     },
     "execution_count": 3,
     "metadata": {},
     "output_type": "execute_result"
    }
   ],
   "source": [
    "df.shape"
   ]
  },
  {
   "cell_type": "code",
   "execution_count": 4,
   "metadata": {},
   "outputs": [],
   "source": [
    "df = df.dropna()"
   ]
  },
  {
   "cell_type": "code",
   "execution_count": 5,
   "metadata": {},
   "outputs": [
    {
     "data": {
      "text/plain": [
       "(155672, 51)"
      ]
     },
     "execution_count": 5,
     "metadata": {},
     "output_type": "execute_result"
    }
   ],
   "source": [
    "df.shape"
   ]
  },
  {
   "cell_type": "code",
   "execution_count": 6,
   "metadata": {},
   "outputs": [],
   "source": [
    "# filter columns for modeling\n",
    "cols_to_use = ['gmDate', 'teamAbbr',  'teamLoc', 'teamRslt', 'playDispNm', 'playStat', 'playMin', 'playPos', 'playPTS', 'playAST', 'playTO', 'playSTL', 'playBLK', 'playTRB']\n",
    "df = df[cols_to_use].copy()"
   ]
  },
  {
   "cell_type": "code",
   "execution_count": 7,
   "metadata": {},
   "outputs": [],
   "source": [
    "# replace categorical values with numbers to apply `rolling` to them\n",
    "rep_dict = {'teamLoc': {'Home':1, 'Away':0},\n",
    "            'teamRslt': {'Win':1, 'Loss':0},\n",
    "            'playStat': {'Starter':1, 'Bench':0}}\n",
    "\n",
    "for x in rep_dict.keys():\n",
    "    df[x] = df[x].apply(lambda y: rep_dict[x][y])"
   ]
  },
  {
   "cell_type": "code",
   "execution_count": 8,
   "metadata": {},
   "outputs": [],
   "source": [
    "df_org = df.copy()"
   ]
  },
  {
   "cell_type": "code",
   "execution_count": 9,
   "metadata": {},
   "outputs": [
    {
     "name": "stdout",
     "output_type": "stream",
     "text": [
      "time used:230.57562494277954\n"
     ]
    }
   ],
   "source": [
    "start = time.time() # timer\n",
    "\n",
    "df = pd.DataFrame() \n",
    "\n",
    "cols_keep = ['playDispNm', 'gmDate', 'teamAbbr', 'playMin', 'teamLoc', 'playStat', 'playPos']\n",
    "cols_roll = ['teamLoc', 'teamRslt', 'playMin', 'playPTS', 'playAST', 'playTO', 'playSTL', 'playBLK', 'playTRB']\n",
    "windows = [1, 5, 10, 15, 20]\n",
    "agg_funcs = ['mean', 'std', 'median']\n",
    "\n",
    "# iterate through names to make new df with windows features\n",
    "name_list = list(df_org['playDispNm'].unique())\n",
    "\n",
    "for name in name_list:\n",
    "    thisguy = df_org.query(\"playDispNm == @name\")\n",
    "    if len(thisguy) < 30: # ignoring players that have less than 30 games' record\n",
    "        continue\n",
    "    cols_created = []\n",
    "\n",
    "    for col in cols_roll:\n",
    "        for t in windows:\n",
    "            for fun in agg_funcs:\n",
    "                if (t == 1) & (fun in ['std', 'median']):\n",
    "                    continue  # 1-day std and median are useless\n",
    "                new_col = col+'_last'+str(t)+'_'+fun\n",
    "                cols_created.append(new_col)\n",
    "                thisguy.loc[:, new_col] = getattr(thisguy[col].rolling(t, min_periods=1), fun)().copy()\n",
    "\n",
    "    # shift created features by 1 row so that it means the \"last n games\"          \n",
    "    cols_created.append('gmDate')\n",
    "    merge_temp = thisguy[cols_created].copy().set_index('gmDate').shift(1, axis = 0).reset_index().copy()\n",
    "    thisguy_result = pd.merge(thisguy[cols_keep], merge_temp, how='left', on='gmDate')\n",
    "\n",
    "    # append this guy's result table into df\n",
    "    df = pd.concat((df, thisguy_result), axis=0, ignore_index=True).copy()\n",
    "\n",
    "end = time.time()\n",
    "print(\"time used:{}\".format(end - start))"
   ]
  },
  {
   "cell_type": "code",
   "execution_count": 10,
   "metadata": {},
   "outputs": [
    {
     "data": {
      "text/plain": [
       "(152929, 124)"
      ]
     },
     "execution_count": 10,
     "metadata": {},
     "output_type": "execute_result"
    }
   ],
   "source": [
    "df.shape"
   ]
  },
  {
   "cell_type": "code",
   "execution_count": 11,
   "metadata": {},
   "outputs": [],
   "source": [
    "df = df.dropna().copy()"
   ]
  },
  {
   "cell_type": "code",
   "execution_count": 12,
   "metadata": {},
   "outputs": [
    {
     "data": {
      "text/plain": [
       "(151493, 124)"
      ]
     },
     "execution_count": 12,
     "metadata": {},
     "output_type": "execute_result"
    }
   ],
   "source": [
    "df.shape"
   ]
  },
  {
   "cell_type": "code",
   "execution_count": 13,
   "metadata": {},
   "outputs": [],
   "source": [
    "# wrangling part ends, save the result dataframe\n",
    "# df.to_csv('../data/player_data_ready.csv', index=False)"
   ]
  },
  {
   "cell_type": "markdown",
   "metadata": {},
   "source": [
    "#### <font color='red'>Some notes on the wrangling part: \n",
    "> * There's only \"Regular\" data. No \"pre season\" / \"post season\".  \n",
    "> * Didn't assign any value to the `win_types` argument of `rolling` function, meaning all windows values are calculated with equal weights.   \n",
    "> * Players having less than 30 games' record are filtered out."
   ]
  },
  {
   "cell_type": "code",
   "execution_count": null,
   "metadata": {},
   "outputs": [],
   "source": []
  },
  {
   "cell_type": "code",
   "execution_count": null,
   "metadata": {},
   "outputs": [],
   "source": []
  }
 ],
 "metadata": {
  "kernelspec": {
   "display_name": "Python 3",
   "language": "python",
   "name": "python3"
  },
  "language_info": {
   "codemirror_mode": {
    "name": "ipython",
    "version": 3
   },
   "file_extension": ".py",
   "mimetype": "text/x-python",
   "name": "python",
   "nbconvert_exporter": "python",
   "pygments_lexer": "ipython3",
   "version": "3.7.5"
  }
 },
 "nbformat": 4,
 "nbformat_minor": 4
}
